{
 "cells": [
  {
   "cell_type": "markdown",
   "metadata": {
    "scrolled": true
   },
   "source": [
    "# Summer Data\n",
    "Cabled Array - Oregon Slope Base Deep Profiler (Continental)"
   ]
  },
  {
   "cell_type": "markdown",
   "metadata": {},
   "source": [
    "12 Aug, 2019 00:07 to 12 Aug 2019 18:07 (small data set)"
   ]
  },
  {
   "cell_type": "code",
   "execution_count": 1,
   "metadata": {},
   "outputs": [],
   "source": [
    "import pandas as pd\n",
    "import matplotlib.pyplot as plt\n",
    "import csv\n",
    "import numpy as np\n",
    "import requests\n",
    "import datetime"
   ]
  },
  {
   "cell_type": "code",
   "execution_count": 2,
   "metadata": {
    "scrolled": true
   },
   "outputs": [
    {
     "data": {
      "text/html": [
       "<div>\n",
       "<style scoped>\n",
       "    .dataframe tbody tr th:only-of-type {\n",
       "        vertical-align: middle;\n",
       "    }\n",
       "\n",
       "    .dataframe tbody tr th {\n",
       "        vertical-align: top;\n",
       "    }\n",
       "\n",
       "    .dataframe thead th {\n",
       "        text-align: right;\n",
       "    }\n",
       "</style>\n",
       "<table border=\"1\" class=\"dataframe\">\n",
       "  <thead>\n",
       "    <tr style=\"text-align: right;\">\n",
       "      <th></th>\n",
       "      <th>obs</th>\n",
       "      <th>time</th>\n",
       "      <th>deployment</th>\n",
       "      <th>conductivity_millisiemens</th>\n",
       "      <th>driver_timestamp</th>\n",
       "      <th>ingestion_timestamp</th>\n",
       "      <th>internal_timestamp</th>\n",
       "      <th>port_timestamp</th>\n",
       "      <th>preferred_timestamp</th>\n",
       "      <th>pressure</th>\n",
       "      <th>...</th>\n",
       "      <th>conductivity_millisiemens_qc_executed</th>\n",
       "      <th>conductivity_millisiemens_qc_results</th>\n",
       "      <th>dpc_ctd_seawater_conductivity_qc_executed</th>\n",
       "      <th>dpc_ctd_seawater_conductivity_qc_results</th>\n",
       "      <th>density_qc_executed</th>\n",
       "      <th>density_qc_results</th>\n",
       "      <th>practical_salinity_qc_executed</th>\n",
       "      <th>practical_salinity_qc_results</th>\n",
       "      <th>lat</th>\n",
       "      <th>lon</th>\n",
       "    </tr>\n",
       "  </thead>\n",
       "  <tbody>\n",
       "    <tr>\n",
       "      <td>0</td>\n",
       "      <td>('0',)</td>\n",
       "      <td>3.771878e+09</td>\n",
       "      <td>5</td>\n",
       "      <td>31.478500</td>\n",
       "      <td>3.774120e+09</td>\n",
       "      <td>3.774120e+09</td>\n",
       "      <td>3.771878e+09</td>\n",
       "      <td>0.0</td>\n",
       "      <td>internal_timestamp</td>\n",
       "      <td>2935.810059</td>\n",
       "      <td>...</td>\n",
       "      <td>1</td>\n",
       "      <td>0</td>\n",
       "      <td>29</td>\n",
       "      <td>13</td>\n",
       "      <td>29</td>\n",
       "      <td>13</td>\n",
       "      <td>29</td>\n",
       "      <td>29</td>\n",
       "      <td>44.52757</td>\n",
       "      <td>-125.38075</td>\n",
       "    </tr>\n",
       "    <tr>\n",
       "      <td>1</td>\n",
       "      <td>('1',)</td>\n",
       "      <td>3.771878e+09</td>\n",
       "      <td>5</td>\n",
       "      <td>31.478701</td>\n",
       "      <td>3.774120e+09</td>\n",
       "      <td>3.774120e+09</td>\n",
       "      <td>3.771878e+09</td>\n",
       "      <td>0.0</td>\n",
       "      <td>internal_timestamp</td>\n",
       "      <td>2935.820068</td>\n",
       "      <td>...</td>\n",
       "      <td>1</td>\n",
       "      <td>0</td>\n",
       "      <td>29</td>\n",
       "      <td>13</td>\n",
       "      <td>29</td>\n",
       "      <td>13</td>\n",
       "      <td>29</td>\n",
       "      <td>29</td>\n",
       "      <td>44.52757</td>\n",
       "      <td>-125.38075</td>\n",
       "    </tr>\n",
       "    <tr>\n",
       "      <td>2</td>\n",
       "      <td>('2',)</td>\n",
       "      <td>3.771878e+09</td>\n",
       "      <td>5</td>\n",
       "      <td>31.478399</td>\n",
       "      <td>3.774120e+09</td>\n",
       "      <td>3.774120e+09</td>\n",
       "      <td>3.771878e+09</td>\n",
       "      <td>0.0</td>\n",
       "      <td>internal_timestamp</td>\n",
       "      <td>2935.810059</td>\n",
       "      <td>...</td>\n",
       "      <td>1</td>\n",
       "      <td>0</td>\n",
       "      <td>29</td>\n",
       "      <td>13</td>\n",
       "      <td>29</td>\n",
       "      <td>13</td>\n",
       "      <td>29</td>\n",
       "      <td>29</td>\n",
       "      <td>44.52757</td>\n",
       "      <td>-125.38075</td>\n",
       "    </tr>\n",
       "    <tr>\n",
       "      <td>3</td>\n",
       "      <td>('3',)</td>\n",
       "      <td>3.771878e+09</td>\n",
       "      <td>5</td>\n",
       "      <td>31.478500</td>\n",
       "      <td>3.774120e+09</td>\n",
       "      <td>3.774120e+09</td>\n",
       "      <td>3.771878e+09</td>\n",
       "      <td>0.0</td>\n",
       "      <td>internal_timestamp</td>\n",
       "      <td>2935.820068</td>\n",
       "      <td>...</td>\n",
       "      <td>1</td>\n",
       "      <td>0</td>\n",
       "      <td>29</td>\n",
       "      <td>13</td>\n",
       "      <td>29</td>\n",
       "      <td>13</td>\n",
       "      <td>29</td>\n",
       "      <td>29</td>\n",
       "      <td>44.52757</td>\n",
       "      <td>-125.38075</td>\n",
       "    </tr>\n",
       "    <tr>\n",
       "      <td>4</td>\n",
       "      <td>('4',)</td>\n",
       "      <td>3.771878e+09</td>\n",
       "      <td>5</td>\n",
       "      <td>31.478500</td>\n",
       "      <td>3.774120e+09</td>\n",
       "      <td>3.774120e+09</td>\n",
       "      <td>3.771878e+09</td>\n",
       "      <td>0.0</td>\n",
       "      <td>internal_timestamp</td>\n",
       "      <td>2935.820068</td>\n",
       "      <td>...</td>\n",
       "      <td>1</td>\n",
       "      <td>0</td>\n",
       "      <td>29</td>\n",
       "      <td>13</td>\n",
       "      <td>29</td>\n",
       "      <td>13</td>\n",
       "      <td>29</td>\n",
       "      <td>29</td>\n",
       "      <td>44.52757</td>\n",
       "      <td>-125.38075</td>\n",
       "    </tr>\n",
       "  </tbody>\n",
       "</table>\n",
       "<p>5 rows × 30 columns</p>\n",
       "</div>"
      ],
      "text/plain": [
       "      obs          time  deployment  conductivity_millisiemens  \\\n",
       "0  ('0',)  3.771878e+09           5                  31.478500   \n",
       "1  ('1',)  3.771878e+09           5                  31.478701   \n",
       "2  ('2',)  3.771878e+09           5                  31.478399   \n",
       "3  ('3',)  3.771878e+09           5                  31.478500   \n",
       "4  ('4',)  3.771878e+09           5                  31.478500   \n",
       "\n",
       "   driver_timestamp  ingestion_timestamp  internal_timestamp  port_timestamp  \\\n",
       "0      3.774120e+09         3.774120e+09        3.771878e+09             0.0   \n",
       "1      3.774120e+09         3.774120e+09        3.771878e+09             0.0   \n",
       "2      3.774120e+09         3.774120e+09        3.771878e+09             0.0   \n",
       "3      3.774120e+09         3.774120e+09        3.771878e+09             0.0   \n",
       "4      3.774120e+09         3.774120e+09        3.771878e+09             0.0   \n",
       "\n",
       "  preferred_timestamp     pressure  ...  \\\n",
       "0  internal_timestamp  2935.810059  ...   \n",
       "1  internal_timestamp  2935.820068  ...   \n",
       "2  internal_timestamp  2935.810059  ...   \n",
       "3  internal_timestamp  2935.820068  ...   \n",
       "4  internal_timestamp  2935.820068  ...   \n",
       "\n",
       "   conductivity_millisiemens_qc_executed  \\\n",
       "0                                      1   \n",
       "1                                      1   \n",
       "2                                      1   \n",
       "3                                      1   \n",
       "4                                      1   \n",
       "\n",
       "   conductivity_millisiemens_qc_results  \\\n",
       "0                                     0   \n",
       "1                                     0   \n",
       "2                                     0   \n",
       "3                                     0   \n",
       "4                                     0   \n",
       "\n",
       "   dpc_ctd_seawater_conductivity_qc_executed  \\\n",
       "0                                         29   \n",
       "1                                         29   \n",
       "2                                         29   \n",
       "3                                         29   \n",
       "4                                         29   \n",
       "\n",
       "   dpc_ctd_seawater_conductivity_qc_results  density_qc_executed  \\\n",
       "0                                        13                   29   \n",
       "1                                        13                   29   \n",
       "2                                        13                   29   \n",
       "3                                        13                   29   \n",
       "4                                        13                   29   \n",
       "\n",
       "   density_qc_results  practical_salinity_qc_executed  \\\n",
       "0                  13                              29   \n",
       "1                  13                              29   \n",
       "2                  13                              29   \n",
       "3                  13                              29   \n",
       "4                  13                              29   \n",
       "\n",
       "   practical_salinity_qc_results       lat        lon  \n",
       "0                             29  44.52757 -125.38075  \n",
       "1                             29  44.52757 -125.38075  \n",
       "2                             29  44.52757 -125.38075  \n",
       "3                             29  44.52757 -125.38075  \n",
       "4                             29  44.52757 -125.38075  \n",
       "\n",
       "[5 rows x 30 columns]"
      ]
     },
     "execution_count": 2,
     "metadata": {},
     "output_type": "execute_result"
    }
   ],
   "source": [
    "data = pd.read_csv(\"cabled_array_OSBDP2.csv\")\n",
    "data.head()"
   ]
  },
  {
   "cell_type": "code",
   "execution_count": 5,
   "metadata": {},
   "outputs": [
    {
     "data": {
      "text/plain": [
       "(37583, 30)"
      ]
     },
     "execution_count": 5,
     "metadata": {},
     "output_type": "execute_result"
    }
   ],
   "source": [
    "data.shape"
   ]
  },
  {
   "cell_type": "code",
   "execution_count": 6,
   "metadata": {},
   "outputs": [],
   "source": [
    "#Defining parameters\n",
    "ABDP_time = data.time\n",
    "pres = data.pressure #same as depth as dbar is one to one to meters\n",
    "sal = data.practical_salinity\n",
    "T = data.temp"
   ]
  },
  {
   "cell_type": "code",
   "execution_count": 7,
   "metadata": {},
   "outputs": [
    {
     "name": "stderr",
     "output_type": "stream",
     "text": [
      "C:\\Users\\ctaing\\AppData\\Local\\Continuum\\anaconda3\\lib\\site-packages\\pandas\\plotting\\_matplotlib\\converter.py:103: FutureWarning: Using an implicitly registered datetime converter for a matplotlib plotting method. The converter was registered by pandas on import. Future versions of pandas will require you to explicitly register matplotlib converters.\n",
      "\n",
      "To register the converters:\n",
      "\t>>> from pandas.plotting import register_matplotlib_converters\n",
      "\t>>> register_matplotlib_converters()\n",
      "  warnings.warn(msg, FutureWarning)\n"
     ]
    },
    {
     "data": {
      "text/plain": [
       "(array([737252.        , 737252.08333333, 737252.16666667, 737252.25      ,\n",
       "        737252.33333333, 737252.41666667, 737252.5       , 737252.58333333,\n",
       "        737252.66666667, 737252.75      ]),\n",
       " <a list of 10 Text xticklabel objects>)"
      ]
     },
     "execution_count": 7,
     "metadata": {},
     "output_type": "execute_result"
    },
    {
     "data": {
      "image/png": "[encoded data removed]",
      "text/plain": [
       "<Figure size 432x288 with 1 Axes>"
      ]
     },
     "metadata": {
      "needs_background": "light"
     },
     "output_type": "display_data"
    }
   ],
   "source": [
    "ntp_epoch = datetime.datetime(1900, 1, 1)\n",
    "unix_epoch = datetime.datetime(1970, 1, 1)\n",
    "ntp_delta = (unix_epoch - ntp_epoch).total_seconds()\n",
    "#defines ntp_timezone and disregarding 70 yr offset\n",
    "\n",
    "def ntp_seconds_to_datetime(ntp_seconds):\n",
    "    return datetime.datetime.utcfromtimestamp(ntp_seconds - ntp_delta).replace(microsecond=0)\n",
    "\n",
    "time7=[]\n",
    "for i in range(len(ABDP_time)):\n",
    "    time7.append(ntp_seconds_to_datetime(ABDP_time[i]))\n",
    "    \n",
    "plt.plot(time7,pres)\n",
    "plt.gca().invert_yaxis() #Code to reverse depth\n",
    "plt.xlabel('Time')\n",
    "plt.ylabel('Depth [m]')\n",
    "plt.title('Figure 1: Cabled Array, OSBDP- Time vs Pressure')\n",
    "plt.xticks(rotation=50)\n"
   ]
  },
  {
   "cell_type": "code",
   "execution_count": 8,
   "metadata": {},
   "outputs": [
    {
     "name": "stdout",
     "output_type": "stream",
     "text": [
      "Total dives within 24 hours of Oregon Base Deep Profiler is =  2\n"
     ]
    }
   ],
   "source": [
    "#Using data referenced from Matthew on 1/29/2020\n",
    "def total_dives(pres):\n",
    "    minimum_depth =max(pres)\n",
    "    maximum_depth = False\n",
    "    divecount = 0\n",
    "    \n",
    "    for i in range(0,len(pres)):\n",
    "        if(pres[i]>0.95*minimum_depth and not maximum_depth):\n",
    "            maximum_depth = True\n",
    "        \n",
    "        if(pres[i]<0.95*minimum_depth and maximum_depth):\n",
    "            maximum_depth = False\n",
    "            divecount +=1\n",
    "    return divecount\n",
    "\n",
    "print(\"Total dives within 24 hours of Oregon Base Deep Profiler is = \",total_dives(pres))"
   ]
  },
  {
   "cell_type": "code",
   "execution_count": 13,
   "metadata": {},
   "outputs": [
    {
     "name": "stdout",
     "output_type": "stream",
     "text": [
      "Maximum speed of sound is  1503.474215589872 m/s\n"
     ]
    }
   ],
   "source": [
    "#Defining speed of sound\n",
    "c =1449.2+4.6*(T)-0.055*(T)**2+0.00029*T**3+(1.34-.01*T)*(sal-35)+0.016*pres\n",
    "c_max = max(c)\n",
    "print(\"Maximum speed of sound is \", c_max, \"m/s\")\n"
   ]
  },
  {
   "cell_type": "code",
   "execution_count": 10,
   "metadata": {},
   "outputs": [
    {
     "data": {
      "text/plain": [
       "Text(0.5, 1.0, 'Figure 2: Cabled Array, ABDP- Pressure (dbar) vs SSP')"
      ]
     },
     "execution_count": 10,
     "metadata": {},
     "output_type": "execute_result"
    },
    {
     "data": {
      "image/png": "[encoded data removed]",
      "text/plain": [
       "<Figure size 432x288 with 1 Axes>"
      ]
     },
     "metadata": {
      "needs_background": "light"
     },
     "output_type": "display_data"
    }
   ],
   "source": [
    "plt.plot(pres , c)\n",
    "plt.xlabel('Seawater Pressure [dbar]')\n",
    "plt.ylabel('c (Speed of Sound)')\n",
    "plt.title('Figure 2: Cabled Array, OSDBP- Pressure (dbar) vs SSP')\n"
   ]
  },
  {
   "cell_type": "code",
   "execution_count": 12,
   "metadata": {},
   "outputs": [
    {
     "data": {
      "image/png": "[encoded data removed]",
      "text/plain": [
       "<Figure size 432x288 with 1 Axes>"
      ]
     },
     "metadata": {
      "needs_background": "light"
     },
     "output_type": "display_data"
    }
   ],
   "source": [
    "#define a moving average function\n",
    "plt.plot(pres,c,'o',alpha=0.2,ms=4,label='data')\n",
    "def moving_average(pres,c,step_size=0.1,bin_size=1):\n",
    "    bin_centers = np.arange(np.min(pres),np.max(pres)-0.5*step_size,step_size)+0.5*step_size\n",
    "    bin_avg = np.zeros(len(bin_centers))\n",
    "    \n",
    "    for index in range(0,len(bin_centers)):\n",
    "        bin_center = bin_centers[index]\n",
    "        items_in_bin = c[(pres>(bin_center-bin_size*0.5) ) & (pres<(bin_center+bin_size*0.5))]\n",
    "        bin_avg[index] = np.mean(items_in_bin)\n",
    "    return bin_centers,bin_avg\n",
    "\n",
    "#plot the moving average\n",
    "bins, average = moving_average(pres,c)\n",
    "plt.plot(bins, average,label='moving average')\n",
    "plt.xlabel('Seawater Pressure [dbar]')\n",
    "plt.ylabel('c (Speed of Sound)')\n",
    "plt.title('Figure 3: Cabled Array, OSDBP- Pressure (dbar) vs SSP with Average')\n",
    "plt.legend()\n",
    "plt.show()\n",
    "\n",
    "#Please wait a moment, takes a lil while to publish for slower computers"
   ]
  },
  {
   "cell_type": "code",
   "execution_count": null,
   "metadata": {},
   "outputs": [],
   "source": []
  },
  {
   "cell_type": "code",
   "execution_count": null,
   "metadata": {},
   "outputs": [],
   "source": []
  }
 ],
 "metadata": {
  "kernelspec": {
   "display_name": "Python 3",
   "language": "python",
   "name": "python3"
  },
  "language_info": {
   "codemirror_mode": {
    "name": "ipython",
    "version": 3
   },
   "file_extension": ".py",
   "mimetype": "text/x-python",
   "name": "python",
   "nbconvert_exporter": "python",
   "pygments_lexer": "ipython3",
   "version": "3.7.4"
  }
 },
 "nbformat": 4,
 "nbformat_minor": 2
}
