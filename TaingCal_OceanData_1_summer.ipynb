{
 "cells": [
  {
   "cell_type": "markdown",
   "metadata": {
    "scrolled": true
   },
   "source": [
    "# Summer Data\n",
    "Coastal Endurance - Oregon Shelf Surface Piercing Profiler Mooring"
   ]
  },
  {
   "cell_type": "markdown",
   "metadata": {},
   "source": [
    "4, July 2019 00:00:00 to 5 July 2019 00:00:00 "
   ]
  },
  {
   "cell_type": "code",
   "execution_count": 12,
   "metadata": {},
   "outputs": [],
   "source": [
    "import pandas as pd\n",
    "import matplotlib.pyplot as plt\n",
    "import csv\n",
    "import numpy as np\n",
    "import requests\n",
    "import datetime"
   ]
  },
  {
   "cell_type": "code",
   "execution_count": 13,
   "metadata": {
    "scrolled": true
   },
   "outputs": [
    {
     "data": {
      "text/html": [
       "<div>\n",
       "<style scoped>\n",
       "    .dataframe tbody tr th:only-of-type {\n",
       "        vertical-align: middle;\n",
       "    }\n",
       "\n",
       "    .dataframe tbody tr th {\n",
       "        vertical-align: top;\n",
       "    }\n",
       "\n",
       "    .dataframe thead th {\n",
       "        text-align: right;\n",
       "    }\n",
       "</style>\n",
       "<table border=\"1\" class=\"dataframe\">\n",
       "  <thead>\n",
       "    <tr style=\"text-align: right;\">\n",
       "      <th></th>\n",
       "      <th>obs</th>\n",
       "      <th>conductivity</th>\n",
       "      <th>conductivity_qc_executed</th>\n",
       "      <th>conductivity_qc_results</th>\n",
       "      <th>density</th>\n",
       "      <th>density_qc_executed</th>\n",
       "      <th>density_qc_results</th>\n",
       "      <th>deployment</th>\n",
       "      <th>driver_timestamp</th>\n",
       "      <th>ingestion_timestamp</th>\n",
       "      <th>...</th>\n",
       "      <th>pressure_qc_results</th>\n",
       "      <th>profiler_timestamp</th>\n",
       "      <th>salinity</th>\n",
       "      <th>salinity_qc_executed</th>\n",
       "      <th>salinity_qc_results</th>\n",
       "      <th>suspect_timestamp</th>\n",
       "      <th>temperature</th>\n",
       "      <th>temperature_qc_executed</th>\n",
       "      <th>temperature_qc_results</th>\n",
       "      <th>time</th>\n",
       "    </tr>\n",
       "  </thead>\n",
       "  <tbody>\n",
       "    <tr>\n",
       "      <td>0</td>\n",
       "      <td>('0',)</td>\n",
       "      <td>3.48719</td>\n",
       "      <td>29</td>\n",
       "      <td>13</td>\n",
       "      <td>1026.802563</td>\n",
       "      <td>29</td>\n",
       "      <td>13</td>\n",
       "      <td>14</td>\n",
       "      <td>3.779218e+09</td>\n",
       "      <td>3.779219e+09</td>\n",
       "      <td>...</td>\n",
       "      <td>29</td>\n",
       "      <td>1.562227e+09</td>\n",
       "      <td>33.897598</td>\n",
       "      <td>29</td>\n",
       "      <td>29</td>\n",
       "      <td>1</td>\n",
       "      <td>7.6180</td>\n",
       "      <td>29</td>\n",
       "      <td>29</td>\n",
       "      <td>3.771215e+09</td>\n",
       "    </tr>\n",
       "    <tr>\n",
       "      <td>1</td>\n",
       "      <td>('1',)</td>\n",
       "      <td>3.48721</td>\n",
       "      <td>29</td>\n",
       "      <td>13</td>\n",
       "      <td>1026.802722</td>\n",
       "      <td>29</td>\n",
       "      <td>13</td>\n",
       "      <td>14</td>\n",
       "      <td>3.779218e+09</td>\n",
       "      <td>3.779219e+09</td>\n",
       "      <td>...</td>\n",
       "      <td>29</td>\n",
       "      <td>1.562227e+09</td>\n",
       "      <td>33.897900</td>\n",
       "      <td>29</td>\n",
       "      <td>29</td>\n",
       "      <td>0</td>\n",
       "      <td>7.6180</td>\n",
       "      <td>29</td>\n",
       "      <td>29</td>\n",
       "      <td>3.771215e+09</td>\n",
       "    </tr>\n",
       "    <tr>\n",
       "      <td>2</td>\n",
       "      <td>('2',)</td>\n",
       "      <td>3.48711</td>\n",
       "      <td>29</td>\n",
       "      <td>13</td>\n",
       "      <td>1026.801887</td>\n",
       "      <td>29</td>\n",
       "      <td>13</td>\n",
       "      <td>14</td>\n",
       "      <td>3.779218e+09</td>\n",
       "      <td>3.779219e+09</td>\n",
       "      <td>...</td>\n",
       "      <td>29</td>\n",
       "      <td>1.562227e+09</td>\n",
       "      <td>33.896900</td>\n",
       "      <td>29</td>\n",
       "      <td>29</td>\n",
       "      <td>0</td>\n",
       "      <td>7.6179</td>\n",
       "      <td>29</td>\n",
       "      <td>29</td>\n",
       "      <td>3.771215e+09</td>\n",
       "    </tr>\n",
       "    <tr>\n",
       "      <td>3</td>\n",
       "      <td>('3',)</td>\n",
       "      <td>3.48719</td>\n",
       "      <td>29</td>\n",
       "      <td>13</td>\n",
       "      <td>1026.802563</td>\n",
       "      <td>29</td>\n",
       "      <td>13</td>\n",
       "      <td>14</td>\n",
       "      <td>3.779218e+09</td>\n",
       "      <td>3.779219e+09</td>\n",
       "      <td>...</td>\n",
       "      <td>29</td>\n",
       "      <td>1.562227e+09</td>\n",
       "      <td>33.897598</td>\n",
       "      <td>29</td>\n",
       "      <td>29</td>\n",
       "      <td>0</td>\n",
       "      <td>7.6180</td>\n",
       "      <td>29</td>\n",
       "      <td>29</td>\n",
       "      <td>3.771215e+09</td>\n",
       "    </tr>\n",
       "    <tr>\n",
       "      <td>4</td>\n",
       "      <td>('4',)</td>\n",
       "      <td>3.48721</td>\n",
       "      <td>29</td>\n",
       "      <td>13</td>\n",
       "      <td>1026.802814</td>\n",
       "      <td>29</td>\n",
       "      <td>13</td>\n",
       "      <td>14</td>\n",
       "      <td>3.779218e+09</td>\n",
       "      <td>3.779219e+09</td>\n",
       "      <td>...</td>\n",
       "      <td>29</td>\n",
       "      <td>1.562227e+09</td>\n",
       "      <td>33.897999</td>\n",
       "      <td>29</td>\n",
       "      <td>29</td>\n",
       "      <td>0</td>\n",
       "      <td>7.6179</td>\n",
       "      <td>29</td>\n",
       "      <td>29</td>\n",
       "      <td>3.771215e+09</td>\n",
       "    </tr>\n",
       "  </tbody>\n",
       "</table>\n",
       "<p>5 rows × 27 columns</p>\n",
       "</div>"
      ],
      "text/plain": [
       "      obs  conductivity  conductivity_qc_executed  conductivity_qc_results  \\\n",
       "0  ('0',)       3.48719                        29                       13   \n",
       "1  ('1',)       3.48721                        29                       13   \n",
       "2  ('2',)       3.48711                        29                       13   \n",
       "3  ('3',)       3.48719                        29                       13   \n",
       "4  ('4',)       3.48721                        29                       13   \n",
       "\n",
       "       density  density_qc_executed  density_qc_results  deployment  \\\n",
       "0  1026.802563                   29                  13          14   \n",
       "1  1026.802722                   29                  13          14   \n",
       "2  1026.801887                   29                  13          14   \n",
       "3  1026.802563                   29                  13          14   \n",
       "4  1026.802814                   29                  13          14   \n",
       "\n",
       "   driver_timestamp  ingestion_timestamp  ...  pressure_qc_results  \\\n",
       "0      3.779218e+09         3.779219e+09  ...                   29   \n",
       "1      3.779218e+09         3.779219e+09  ...                   29   \n",
       "2      3.779218e+09         3.779219e+09  ...                   29   \n",
       "3      3.779218e+09         3.779219e+09  ...                   29   \n",
       "4      3.779218e+09         3.779219e+09  ...                   29   \n",
       "\n",
       "   profiler_timestamp   salinity  salinity_qc_executed salinity_qc_results  \\\n",
       "0        1.562227e+09  33.897598                    29                  29   \n",
       "1        1.562227e+09  33.897900                    29                  29   \n",
       "2        1.562227e+09  33.896900                    29                  29   \n",
       "3        1.562227e+09  33.897598                    29                  29   \n",
       "4        1.562227e+09  33.897999                    29                  29   \n",
       "\n",
       "   suspect_timestamp  temperature  temperature_qc_executed  \\\n",
       "0                  1       7.6180                       29   \n",
       "1                  0       7.6180                       29   \n",
       "2                  0       7.6179                       29   \n",
       "3                  0       7.6180                       29   \n",
       "4                  0       7.6179                       29   \n",
       "\n",
       "   temperature_qc_results          time  \n",
       "0                      29  3.771215e+09  \n",
       "1                      29  3.771215e+09  \n",
       "2                      29  3.771215e+09  \n",
       "3                      29  3.771215e+09  \n",
       "4                      29  3.771215e+09  \n",
       "\n",
       "[5 rows x 27 columns]"
      ]
     },
     "execution_count": 13,
     "metadata": {},
     "output_type": "execute_result"
    }
   ],
   "source": [
    "data = pd.read_csv(\"coastal_endurance_OSSPPM2.csv\")\n",
    "data.head()"
   ]
  },
  {
   "cell_type": "code",
   "execution_count": 14,
   "metadata": {},
   "outputs": [
    {
     "data": {
      "text/plain": [
       "(9032, 27)"
      ]
     },
     "execution_count": 14,
     "metadata": {},
     "output_type": "execute_result"
    }
   ],
   "source": [
    "data.shape"
   ]
  },
  {
   "cell_type": "code",
   "execution_count": 15,
   "metadata": {},
   "outputs": [],
   "source": [
    "#Defining parameters\n",
    "ABDP_time = data.ingestion_timestamp\n",
    "pres = data.pressure #same as depth as dbar is one to one to meters\n",
    "sal = data.salinity\n",
    "T = data.temperature"
   ]
  },
  {
   "cell_type": "code",
   "execution_count": 16,
   "metadata": {},
   "outputs": [
    {
     "data": {
      "text/plain": [
       "(array([737336.95524248, 737336.95524826, 737336.95525405]),\n",
       " <a list of 3 Text xticklabel objects>)"
      ]
     },
     "execution_count": 16,
     "metadata": {},
     "output_type": "execute_result"
    },
    {
     "data": {
      "image/png": "[encoded data removed]",
      "text/plain": [
       "<Figure size 432x288 with 1 Axes>"
      ]
     },
     "metadata": {
      "needs_background": "light"
     },
     "output_type": "display_data"
    }
   ],
   "source": [
    "ntp_epoch = datetime.datetime(1900, 1, 1)\n",
    "unix_epoch = datetime.datetime(1970, 1, 1)\n",
    "ntp_delta = (unix_epoch - ntp_epoch).total_seconds()\n",
    "#defines ntp_timezone and disregarding 70 yr offset\n",
    "\n",
    "def ntp_seconds_to_datetime(ntp_seconds):\n",
    "    return datetime.datetime.utcfromtimestamp(ntp_seconds - ntp_delta).replace(microsecond=0)\n",
    "\n",
    "time7=[]\n",
    "for i in range(len(ABDP_time)):\n",
    "    time7.append(ntp_seconds_to_datetime(ABDP_time[i]))\n",
    "    \n",
    "plt.plot(time7,pres)\n",
    "plt.gca().invert_yaxis() #Code to reverse depth\n",
    "plt.xlabel('Time')\n",
    "plt.ylabel('Depth [m]')\n",
    "plt.title('Figure 1: Coastal Endurance, OSSPPM- Time vs Pressure')\n",
    "plt.xticks(rotation=50)\n"
   ]
  },
  {
   "cell_type": "code",
   "execution_count": 17,
   "metadata": {},
   "outputs": [
    {
     "name": "stdout",
     "output_type": "stream",
     "text": [
      "Total dives within 24 hours of Oregon Shelf Surface Piercing Profiler Mooring is =  2\n"
     ]
    }
   ],
   "source": [
    "#Using data referenced from Matthew on 1/29/2020\n",
    "def total_dives(pres):\n",
    "    minimum_depth =max(pres)\n",
    "    maximum_depth = False\n",
    "    divecount = 0\n",
    "    \n",
    "    for i in range(0,len(pres)):\n",
    "        if(pres[i]>0.95*minimum_depth and not maximum_depth):\n",
    "            maximum_depth = True\n",
    "        \n",
    "        if(pres[i]<0.95*minimum_depth and maximum_depth):\n",
    "            maximum_depth = False\n",
    "            divecount +=1\n",
    "    return divecount\n",
    "\n",
    "print(\"Total dives within 24 hours of Oregon Shelf Surface Piercing Profiler Mooring is = \",total_dives(pres))"
   ]
  },
  {
   "cell_type": "code",
   "execution_count": 18,
   "metadata": {},
   "outputs": [
    {
     "name": "stdout",
     "output_type": "stream",
     "text": [
      "Maximum speed of sound is  1502.8484502901213 m/s\n"
     ]
    }
   ],
   "source": [
    "#Defining speed of sound\n",
    "c =1449.2+4.6*(T)-0.055*(T)**2+0.00029*T**3+(1.34-.01*T)*(sal-35)+0.016*pres\n",
    "c_max = max(c)\n",
    "print(\"Maximum speed of sound is \", c_max, \"m/s\")\n"
   ]
  },
  {
   "cell_type": "code",
   "execution_count": 19,
   "metadata": {},
   "outputs": [
    {
     "data": {
      "text/plain": [
       "Text(0.5, 1.0, 'Figure 2: Coastal Endurance, OSSPPM- Pressure (dbar) vs SSP')"
      ]
     },
     "execution_count": 19,
     "metadata": {},
     "output_type": "execute_result"
    },
    {
     "data": {
      "image/png": "[encoded data removed]",
      "text/plain": [
       "<Figure size 432x288 with 1 Axes>"
      ]
     },
     "metadata": {
      "needs_background": "light"
     },
     "output_type": "display_data"
    }
   ],
   "source": [
    "plt.plot(pres , c)\n",
    "plt.xlabel('Seawater Pressure [dbar]')\n",
    "plt.ylabel('c (Speed of Sound)')\n",
    "plt.title('Figure 2: Coastal Endurance, OSSPPM- Pressure (dbar) vs SSP')\n"
   ]
  },
  {
   "cell_type": "code",
   "execution_count": 20,
   "metadata": {},
   "outputs": [
    {
     "data": {
      "image/png": "[encoded data removed]",
      "text/plain": [
       "<Figure size 432x288 with 1 Axes>"
      ]
     },
     "metadata": {
      "needs_background": "light"
     },
     "output_type": "display_data"
    }
   ],
   "source": [
    "#define a moving average function\n",
    "plt.plot(pres,c,'o',alpha=0.2,ms=4,label='data')\n",
    "def moving_average(pres,c,step_size=0.1,bin_size=1):\n",
    "    bin_centers = np.arange(np.min(pres),np.max(pres)-0.5*step_size,step_size)+0.5*step_size\n",
    "    bin_avg = np.zeros(len(bin_centers))\n",
    "    \n",
    "    for index in range(0,len(bin_centers)):\n",
    "        bin_center = bin_centers[index]\n",
    "        items_in_bin = c[(pres>(bin_center-bin_size*0.5) ) & (pres<(bin_center+bin_size*0.5))]\n",
    "        bin_avg[index] = np.mean(items_in_bin)\n",
    "    return bin_centers,bin_avg\n",
    "\n",
    "#plot the moving average\n",
    "bins, average = moving_average(pres,c)\n",
    "plt.plot(bins, average,label='moving average')\n",
    "plt.xlabel('Seawater Pressure [dbar]')\n",
    "plt.ylabel('c (Speed of Sound)')\n",
    "plt.title('Figure 3: Coastal Endurance, OSSPPM- Pressure (dbar) vs SSP with Average')\n",
    "plt.legend()\n",
    "plt.show()\n",
    "\n",
    "#Please wait a moment, takes a lil while to publish for slower computers"
   ]
  },
  {
   "cell_type": "code",
   "execution_count": null,
   "metadata": {},
   "outputs": [],
   "source": []
  },
  {
   "cell_type": "code",
   "execution_count": null,
   "metadata": {},
   "outputs": [],
   "source": []
  }
 ],
 "metadata": {
  "kernelspec": {
   "display_name": "Python 3",
   "language": "python",
   "name": "python3"
  },
  "language_info": {
   "codemirror_mode": {
    "name": "ipython",
    "version": 3
   },
   "file_extension": ".py",
   "mimetype": "text/x-python",
   "name": "python",
   "nbconvert_exporter": "python",
   "pygments_lexer": "ipython3",
   "version": "3.7.4"
  }
 },
 "nbformat": 4,
 "nbformat_minor": 2
}
