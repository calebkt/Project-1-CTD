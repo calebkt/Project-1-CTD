{
 "cells": [
  {
   "cell_type": "markdown",
   "metadata": {},
   "source": [
    "# Summer Data\n",
    "Cabled Array - Axial Base Deep Profiler (Axial Seamount)\n",
    "17 July, 2019 00:00:00 to 18 July, 2019 00:00:00"
   ]
  },
  {
   "cell_type": "code",
   "execution_count": 21,
   "metadata": {},
   "outputs": [],
   "source": [
    "import pandas as pd\n",
    "import matplotlib.pyplot as plt\n",
    "import csv\n",
    "import numpy as np\n",
    "import requests\n",
    "import datetime"
   ]
  },
  {
   "cell_type": "code",
   "execution_count": 22,
   "metadata": {
    "scrolled": true
   },
   "outputs": [
    {
     "data": {
      "text/html": [
       "<div>\n",
       "<style scoped>\n",
       "    .dataframe tbody tr th:only-of-type {\n",
       "        vertical-align: middle;\n",
       "    }\n",
       "\n",
       "    .dataframe tbody tr th {\n",
       "        vertical-align: top;\n",
       "    }\n",
       "\n",
       "    .dataframe thead th {\n",
       "        text-align: right;\n",
       "    }\n",
       "</style>\n",
       "<table border=\"1\" class=\"dataframe\">\n",
       "  <thead>\n",
       "    <tr style=\"text-align: right;\">\n",
       "      <th></th>\n",
       "      <th>obs</th>\n",
       "      <th>time</th>\n",
       "      <th>deployment</th>\n",
       "      <th>conductivity_millisiemens</th>\n",
       "      <th>driver_timestamp</th>\n",
       "      <th>ingestion_timestamp</th>\n",
       "      <th>internal_timestamp</th>\n",
       "      <th>port_timestamp</th>\n",
       "      <th>preferred_timestamp</th>\n",
       "      <th>pressure</th>\n",
       "      <th>...</th>\n",
       "      <th>conductivity_millisiemens_qc_executed</th>\n",
       "      <th>conductivity_millisiemens_qc_results</th>\n",
       "      <th>dpc_ctd_seawater_conductivity_qc_executed</th>\n",
       "      <th>dpc_ctd_seawater_conductivity_qc_results</th>\n",
       "      <th>density_qc_executed</th>\n",
       "      <th>density_qc_results</th>\n",
       "      <th>practical_salinity_qc_executed</th>\n",
       "      <th>practical_salinity_qc_results</th>\n",
       "      <th>lat</th>\n",
       "      <th>lon</th>\n",
       "    </tr>\n",
       "  </thead>\n",
       "  <tbody>\n",
       "    <tr>\n",
       "      <td>0</td>\n",
       "      <td>('0',)</td>\n",
       "      <td>3.772311e+09</td>\n",
       "      <td>4</td>\n",
       "      <td>31.406000</td>\n",
       "      <td>3.773758e+09</td>\n",
       "      <td>3.773758e+09</td>\n",
       "      <td>3.772311e+09</td>\n",
       "      <td>0.0</td>\n",
       "      <td>internal_timestamp</td>\n",
       "      <td>2641.050049</td>\n",
       "      <td>...</td>\n",
       "      <td>1</td>\n",
       "      <td>0</td>\n",
       "      <td>29</td>\n",
       "      <td>13</td>\n",
       "      <td>29</td>\n",
       "      <td>29</td>\n",
       "      <td>29</td>\n",
       "      <td>29</td>\n",
       "      <td>45.82972</td>\n",
       "      <td>-129.75904</td>\n",
       "    </tr>\n",
       "    <tr>\n",
       "      <td>1</td>\n",
       "      <td>('1',)</td>\n",
       "      <td>3.772311e+09</td>\n",
       "      <td>4</td>\n",
       "      <td>31.405199</td>\n",
       "      <td>3.773758e+09</td>\n",
       "      <td>3.773758e+09</td>\n",
       "      <td>3.772311e+09</td>\n",
       "      <td>0.0</td>\n",
       "      <td>internal_timestamp</td>\n",
       "      <td>2636.300049</td>\n",
       "      <td>...</td>\n",
       "      <td>1</td>\n",
       "      <td>0</td>\n",
       "      <td>29</td>\n",
       "      <td>13</td>\n",
       "      <td>29</td>\n",
       "      <td>29</td>\n",
       "      <td>29</td>\n",
       "      <td>29</td>\n",
       "      <td>45.82972</td>\n",
       "      <td>-129.75904</td>\n",
       "    </tr>\n",
       "    <tr>\n",
       "      <td>2</td>\n",
       "      <td>('2',)</td>\n",
       "      <td>3.772311e+09</td>\n",
       "      <td>4</td>\n",
       "      <td>31.403799</td>\n",
       "      <td>3.773758e+09</td>\n",
       "      <td>3.773758e+09</td>\n",
       "      <td>3.772311e+09</td>\n",
       "      <td>0.0</td>\n",
       "      <td>internal_timestamp</td>\n",
       "      <td>2630.649902</td>\n",
       "      <td>...</td>\n",
       "      <td>1</td>\n",
       "      <td>0</td>\n",
       "      <td>29</td>\n",
       "      <td>13</td>\n",
       "      <td>29</td>\n",
       "      <td>29</td>\n",
       "      <td>29</td>\n",
       "      <td>29</td>\n",
       "      <td>45.82972</td>\n",
       "      <td>-129.75904</td>\n",
       "    </tr>\n",
       "    <tr>\n",
       "      <td>3</td>\n",
       "      <td>('3',)</td>\n",
       "      <td>3.772311e+09</td>\n",
       "      <td>4</td>\n",
       "      <td>31.401899</td>\n",
       "      <td>3.773758e+09</td>\n",
       "      <td>3.773758e+09</td>\n",
       "      <td>3.772311e+09</td>\n",
       "      <td>0.0</td>\n",
       "      <td>internal_timestamp</td>\n",
       "      <td>2625.080078</td>\n",
       "      <td>...</td>\n",
       "      <td>1</td>\n",
       "      <td>0</td>\n",
       "      <td>29</td>\n",
       "      <td>13</td>\n",
       "      <td>29</td>\n",
       "      <td>29</td>\n",
       "      <td>29</td>\n",
       "      <td>29</td>\n",
       "      <td>45.82972</td>\n",
       "      <td>-129.75904</td>\n",
       "    </tr>\n",
       "    <tr>\n",
       "      <td>4</td>\n",
       "      <td>('4',)</td>\n",
       "      <td>3.772311e+09</td>\n",
       "      <td>4</td>\n",
       "      <td>31.400999</td>\n",
       "      <td>3.773758e+09</td>\n",
       "      <td>3.773758e+09</td>\n",
       "      <td>3.772311e+09</td>\n",
       "      <td>0.0</td>\n",
       "      <td>internal_timestamp</td>\n",
       "      <td>2619.530029</td>\n",
       "      <td>...</td>\n",
       "      <td>1</td>\n",
       "      <td>0</td>\n",
       "      <td>29</td>\n",
       "      <td>13</td>\n",
       "      <td>29</td>\n",
       "      <td>29</td>\n",
       "      <td>29</td>\n",
       "      <td>29</td>\n",
       "      <td>45.82972</td>\n",
       "      <td>-129.75904</td>\n",
       "    </tr>\n",
       "  </tbody>\n",
       "</table>\n",
       "<p>5 rows × 30 columns</p>\n",
       "</div>"
      ],
      "text/plain": [
       "      obs          time  deployment  conductivity_millisiemens  \\\n",
       "0  ('0',)  3.772311e+09           4                  31.406000   \n",
       "1  ('1',)  3.772311e+09           4                  31.405199   \n",
       "2  ('2',)  3.772311e+09           4                  31.403799   \n",
       "3  ('3',)  3.772311e+09           4                  31.401899   \n",
       "4  ('4',)  3.772311e+09           4                  31.400999   \n",
       "\n",
       "   driver_timestamp  ingestion_timestamp  internal_timestamp  port_timestamp  \\\n",
       "0      3.773758e+09         3.773758e+09        3.772311e+09             0.0   \n",
       "1      3.773758e+09         3.773758e+09        3.772311e+09             0.0   \n",
       "2      3.773758e+09         3.773758e+09        3.772311e+09             0.0   \n",
       "3      3.773758e+09         3.773758e+09        3.772311e+09             0.0   \n",
       "4      3.773758e+09         3.773758e+09        3.772311e+09             0.0   \n",
       "\n",
       "  preferred_timestamp     pressure  ...  \\\n",
       "0  internal_timestamp  2641.050049  ...   \n",
       "1  internal_timestamp  2636.300049  ...   \n",
       "2  internal_timestamp  2630.649902  ...   \n",
       "3  internal_timestamp  2625.080078  ...   \n",
       "4  internal_timestamp  2619.530029  ...   \n",
       "\n",
       "   conductivity_millisiemens_qc_executed  \\\n",
       "0                                      1   \n",
       "1                                      1   \n",
       "2                                      1   \n",
       "3                                      1   \n",
       "4                                      1   \n",
       "\n",
       "   conductivity_millisiemens_qc_results  \\\n",
       "0                                     0   \n",
       "1                                     0   \n",
       "2                                     0   \n",
       "3                                     0   \n",
       "4                                     0   \n",
       "\n",
       "   dpc_ctd_seawater_conductivity_qc_executed  \\\n",
       "0                                         29   \n",
       "1                                         29   \n",
       "2                                         29   \n",
       "3                                         29   \n",
       "4                                         29   \n",
       "\n",
       "   dpc_ctd_seawater_conductivity_qc_results  density_qc_executed  \\\n",
       "0                                        13                   29   \n",
       "1                                        13                   29   \n",
       "2                                        13                   29   \n",
       "3                                        13                   29   \n",
       "4                                        13                   29   \n",
       "\n",
       "   density_qc_results  practical_salinity_qc_executed  \\\n",
       "0                  29                              29   \n",
       "1                  29                              29   \n",
       "2                  29                              29   \n",
       "3                  29                              29   \n",
       "4                  29                              29   \n",
       "\n",
       "   practical_salinity_qc_results       lat        lon  \n",
       "0                             29  45.82972 -129.75904  \n",
       "1                             29  45.82972 -129.75904  \n",
       "2                             29  45.82972 -129.75904  \n",
       "3                             29  45.82972 -129.75904  \n",
       "4                             29  45.82972 -129.75904  \n",
       "\n",
       "[5 rows x 30 columns]"
      ]
     },
     "execution_count": 22,
     "metadata": {},
     "output_type": "execute_result"
    }
   ],
   "source": [
    "data = pd.read_csv(\"cabled_array_abdp2.csv\")\n",
    "data.head()"
   ]
  },
  {
   "cell_type": "code",
   "execution_count": 23,
   "metadata": {},
   "outputs": [
    {
     "data": {
      "text/plain": [
       "(832, 30)"
      ]
     },
     "execution_count": 23,
     "metadata": {},
     "output_type": "execute_result"
    }
   ],
   "source": [
    "data.shape"
   ]
  },
  {
   "cell_type": "code",
   "execution_count": 24,
   "metadata": {},
   "outputs": [],
   "source": [
    "#Defining parameters\n",
    "ABDP_time = data.time\n",
    "pres = data.pressure #same as depth as dbar is one to one to meters\n",
    "sal = data.practical_salinity\n",
    "T = data.temp"
   ]
  },
  {
   "cell_type": "code",
   "execution_count": 25,
   "metadata": {},
   "outputs": [
    {
     "data": {
      "text/plain": [
       "(array([737257.        , 737257.08333333, 737257.16666667, 737257.25      ,\n",
       "        737257.33333333, 737257.41666667, 737257.5       , 737257.58333333,\n",
       "        737257.66666667, 737257.75      ]),\n",
       " <a list of 10 Text xticklabel objects>)"
      ]
     },
     "execution_count": 25,
     "metadata": {},
     "output_type": "execute_result"
    },
    {
     "data": {
      "image/png": "[encoded data removed]",
      "text/plain": [
       "<Figure size 432x288 with 1 Axes>"
      ]
     },
     "metadata": {
      "needs_background": "light"
     },
     "output_type": "display_data"
    }
   ],
   "source": [
    "ntp_epoch = datetime.datetime(1900, 1, 1)\n",
    "unix_epoch = datetime.datetime(1970, 1, 1)\n",
    "ntp_delta = (unix_epoch - ntp_epoch).total_seconds()\n",
    "#defines ntp_timezone and disregarding 70 yr offset\n",
    "\n",
    "def ntp_seconds_to_datetime(ntp_seconds):\n",
    "    return datetime.datetime.utcfromtimestamp(ntp_seconds - ntp_delta).replace(microsecond=0)\n",
    "\n",
    "time7=[]\n",
    "for i in range(len(ABDP_time)):\n",
    "    time7.append(ntp_seconds_to_datetime(ABDP_time[i]))\n",
    "    \n",
    "plt.plot(time7,pres)\n",
    "plt.gca().invert_yaxis() #Code to reverse depth\n",
    "plt.xlabel('Time')\n",
    "plt.ylabel('Depth [m]')\n",
    "plt.title('Figure 1: Cabled Array, ABDP- Time vs Pressure')\n",
    "plt.xticks(rotation=50)\n"
   ]
  },
  {
   "cell_type": "markdown",
   "metadata": {},
   "source": [
    "Looking at the number of dives above, we notice that there are two. Confirming it is shown below:"
   ]
  },
  {
   "cell_type": "code",
   "execution_count": 26,
   "metadata": {},
   "outputs": [
    {
     "name": "stdout",
     "output_type": "stream",
     "text": [
      "Total dives within 24 hours of Axial Base Deep Profiler is =  2\n"
     ]
    }
   ],
   "source": [
    "#Using data referenced from Matthew on 1/29/2020\n",
    "def total_dives(pres):\n",
    "    minimum_depth =max(pres)\n",
    "    maximum_depth = False\n",
    "    divecount = 0\n",
    "    \n",
    "    for i in range(0,len(pres)):\n",
    "        if(pres[i]>0.95*minimum_depth and not maximum_depth):\n",
    "            maximum_depth = True\n",
    "        \n",
    "        if(pres[i]<0.95*minimum_depth and maximum_depth):\n",
    "            maximum_depth = False\n",
    "            divecount +=1\n",
    "    return divecount\n",
    "\n",
    "print(\"Total dives within 24 hours of Axial Base Deep Profiler is = \",total_dives(pres))"
   ]
  },
  {
   "cell_type": "code",
   "execution_count": 27,
   "metadata": {},
   "outputs": [
    {
     "name": "stdout",
     "output_type": "stream",
     "text": [
      "Maximum speed of sound is  1499.0150772492439 m/s\n"
     ]
    }
   ],
   "source": [
    "#Defining speed of sound\n",
    "c =1449.2+4.6*(T)-0.055*(T)**2+0.00029*T**3+(1.34-.01*T)*(sal-35)+0.016*pres\n",
    "c_max = max(c)\n",
    "print(\"Maximum speed of sound is \", c_max, \"m/s\")\n"
   ]
  },
  {
   "cell_type": "code",
   "execution_count": 15,
   "metadata": {},
   "outputs": [
    {
     "data": {
      "text/plain": [
       "Text(0.5, 1.0, 'Figure 2: Cabled Array, ABDP- Pressure (dbar) vs SSP')"
      ]
     },
     "execution_count": 15,
     "metadata": {},
     "output_type": "execute_result"
    },
    {
     "data": {
      "image/png": "[encoded data removed]",
      "text/plain": [
       "<Figure size 432x288 with 1 Axes>"
      ]
     },
     "metadata": {
      "needs_background": "light"
     },
     "output_type": "display_data"
    }
   ],
   "source": [
    "plt.plot(pres , c)\n",
    "plt.xlabel('Seawater Pressure [dbar]')\n",
    "plt.ylabel('c (Speed of Sound)')\n",
    "plt.title('Figure 2: Cabled Array, ABDP- Pressure (dbar) vs SSP')\n"
   ]
  },
  {
   "cell_type": "code",
   "execution_count": 18,
   "metadata": {},
   "outputs": [
    {
     "data": {
      "image/png": "[encoded data removed]",
      "text/plain": [
       "<Figure size 432x288 with 1 Axes>"
      ]
     },
     "metadata": {
      "needs_background": "light"
     },
     "output_type": "display_data"
    }
   ],
   "source": [
    "#define a moving average function\n",
    "plt.plot(pres,c,'o',alpha=0.2,ms=4,label='data')\n",
    "def moving_average(pres,c,step_size=0.1,bin_size=1):\n",
    "    bin_centers = np.arange(np.min(pres),np.max(pres)-0.5*step_size,step_size)+0.5*step_size\n",
    "    bin_avg = np.zeros(len(bin_centers))\n",
    "    \n",
    "    for index in range(0,len(bin_centers)):\n",
    "        bin_center = bin_centers[index]\n",
    "        items_in_bin = c[(pres>(bin_center-bin_size*0.5) ) & (pres<(bin_center+bin_size*0.5))]\n",
    "        bin_avg[index] = np.mean(items_in_bin)\n",
    "    return bin_centers,bin_avg\n",
    "\n",
    "#plot the moving average\n",
    "bins, average = moving_average(pres,c)\n",
    "plt.plot(bins, average,label='moving average')\n",
    "plt.xlabel('Seawater Pressure [dbar]')\n",
    "plt.ylabel('c (Speed of Sound)')\n",
    "plt.title('Figure 3: Cabled Array, ABDP- Pressure (dbar) vs SSP with Average')\n",
    "plt.legend()\n",
    "plt.show()\n",
    "\n",
    "#Please wait a moment, takes a lil while to publish for slower computers"
   ]
  },
  {
   "cell_type": "code",
   "execution_count": null,
   "metadata": {},
   "outputs": [],
   "source": []
  }
 ],
 "metadata": {
  "kernelspec": {
   "display_name": "Python 3",
   "language": "python",
   "name": "python3"
  },
  "language_info": {
   "codemirror_mode": {
    "name": "ipython",
    "version": 3
   },
   "file_extension": ".py",
   "mimetype": "text/x-python",
   "name": "python",
   "nbconvert_exporter": "python",
   "pygments_lexer": "ipython3",
   "version": "3.7.4"
  }
 },
 "nbformat": 4,
 "nbformat_minor": 2
}
